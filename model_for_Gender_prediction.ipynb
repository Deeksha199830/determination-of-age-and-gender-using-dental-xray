{
  "nbformat": 4,
  "nbformat_minor": 0,
  "metadata": {
    "colab": {
      "name": "model for Gender prediction",
      "provenance": [],
      "collapsed_sections": []
    },
    "kernelspec": {
      "name": "python3",
      "display_name": "Python 3"
    }
  },
  "cells": [
    {
      "cell_type": "markdown",
      "metadata": {
        "id": "ELoROvhERA8a",
        "colab_type": "text"
      },
      "source": [
        "# mounting the drive and importing the packages"
      ]
    },
    {
      "cell_type": "code",
      "metadata": {
        "id": "PmRsBSRDoPDc",
        "colab_type": "code",
        "colab": {}
      },
      "source": [
        "from google.colab import drive\n",
        " \n",
        "drive.mount('/gdrive')\n",
        "%cd /gdrive/..../Dental xray#path where images are located\n",
        "\n",
        "import numpy as np # linear algebra\n",
        "import pandas as pd # data processing, CSV file I/O (e.g. pd.read_csv)\n",
        "import math\n",
        "import cv2\n",
        "import matplotlib.pyplot as plt\n",
        "import os\n",
        "import seaborn as sns\n",
        "import umap\n",
        "from PIL import Image\n",
        "from scipy import misc\n",
        "from os import listdir\n",
        "from os.path import isfile, join\n",
        "import numpy as np\n",
        "from scipy import misc\n",
        "from random import shuffle\n",
        "from collections import Counter\n",
        "import matplotlib.pyplot as plt\n",
        "from sklearn.decomposition import PCA\n",
        "from sklearn.manifold import TSNE\n",
        "import tensorflow as tf\n",
        "from keras.models import Sequential\n",
        "from keras.layers import Conv2D, MaxPooling2D\n",
        "from keras.layers import Activation, Dropout, Flatten, Dense\n",
        "from keras.utils.np_utils import to_categorical\n",
        "\n",
        "os.chdir('/gdrive/.../Dental xray')"
      ],
      "execution_count": 0,
      "outputs": []
    },
    {
      "cell_type": "markdown",
      "metadata": {
        "id": "oUv3akZlRVeP",
        "colab_type": "text"
      },
      "source": [
        "# Loading the data and labeling "
      ]
    },
    {
      "cell_type": "code",
      "metadata": {
        "id": "Eu0GbX34fcgE",
        "colab_type": "code",
        "colab": {}
      },
      "source": [
        "onlyfiles = os.listdir()"
      ],
      "execution_count": 0,
      "outputs": []
    },
    {
      "cell_type": "code",
      "metadata": {
        "id": "_B3p8jFZf3sQ",
        "colab_type": "code",
        "colab": {}
      },
      "source": [
        "len(onlyfiles)"
      ],
      "execution_count": 0,
      "outputs": []
    },
    {
      "cell_type": "code",
      "metadata": {
        "id": "7PcrX4SZf68b",
        "colab_type": "code",
        "colab": {}
      },
      "source": [
        "shuffle(onlyfiles)\n",
        "gender = [i.split('_')[2] for i in onlyfiles]"
      ],
      "execution_count": 0,
      "outputs": []
    },
    {
      "cell_type": "code",
      "metadata": {
        "id": "G-7n4QVggGye",
        "colab_type": "code",
        "colab": {}
      },
      "source": [
        "classes = []\n",
        "for i in gender:\n",
        "    i = int(i)\n",
        "    classes.append(i)"
      ],
      "execution_count": 0,
      "outputs": []
    },
    {
      "cell_type": "code",
      "metadata": {
        "id": "5FA33XEVgmnq",
        "colab_type": "code",
        "colab": {}
      },
      "source": [
        "X_data =[]\n",
        "for file in onlyfiles:\n",
        "    teeth = cv2.imread(file)\n",
        "    teeth = cv2.resize(teeth, (128,128) )\n",
        "    X_data.append(teeth)"
      ],
      "execution_count": 0,
      "outputs": []
    },
    {
      "cell_type": "code",
      "metadata": {
        "id": "pMCHuSc7gvzY",
        "colab_type": "code",
        "colab": {}
      },
      "source": [
        "X = np.squeeze(X_data)"
      ],
      "execution_count": 0,
      "outputs": []
    },
    {
      "cell_type": "code",
      "metadata": {
        "id": "7OrTXPzSh0d0",
        "colab_type": "code",
        "colab": {}
      },
      "source": [
        "X.shape"
      ],
      "execution_count": 0,
      "outputs": []
    },
    {
      "cell_type": "code",
      "metadata": {
        "id": "7m57zVUPh7_B",
        "colab_type": "code",
        "colab": {}
      },
      "source": [
        "# normalize data\n",
        "X = X.astype('float32')\n",
        "X /= 255"
      ],
      "execution_count": 0,
      "outputs": []
    },
    {
      "cell_type": "code",
      "metadata": {
        "id": "MzJ2ceBRiCcx",
        "colab_type": "code",
        "colab": {}
      },
      "source": [
        "classes[:10]"
      ],
      "execution_count": 0,
      "outputs": []
    },
    {
      "cell_type": "code",
      "metadata": {
        "id": "TKb09EhGiGBY",
        "colab_type": "code",
        "colab": {}
      },
      "source": [
        "categorical_labels = to_categorical(classes, num_classes=2)"
      ],
      "execution_count": 0,
      "outputs": []
    },
    {
      "cell_type": "code",
      "metadata": {
        "id": "9ERhHrCaiLMz",
        "colab_type": "code",
        "colab": {}
      },
      "source": [
        "categorical_labels[:10]"
      ],
      "execution_count": 0,
      "outputs": []
    },
    {
      "cell_type": "code",
      "metadata": {
        "id": "yrUZOjI1iZ-r",
        "colab_type": "code",
        "colab": {}
      },
      "source": [
        "(x_train, y_train), (x_test, y_test) = (X[:127],categorical_labels[:127]) , (X[127:] , categorical_labels[127:])\n",
        "(x_valid , y_valid) = (x_test[:67], y_test[:67])\n",
        "(x_test, y_test) = (x_test[67:], y_test[67:])"
      ],
      "execution_count": 0,
      "outputs": []
    },
    {
      "cell_type": "code",
      "metadata": {
        "id": "sQLLI7xQk7pT",
        "colab_type": "code",
        "colab": {}
      },
      "source": [
        "len(x_train)+len(x_test) + len(x_valid) == len(X)"
      ],
      "execution_count": 0,
      "outputs": []
    },
    {
      "cell_type": "markdown",
      "metadata": {
        "id": "pfyrnr8PRhh-",
        "colab_type": "text"
      },
      "source": [
        "# gender classification using cnn"
      ]
    },
    {
      "cell_type": "code",
      "metadata": {
        "id": "6Uc5_umyk-WO",
        "colab_type": "code",
        "colab": {}
      },
      "source": [
        "model = tf.keras.Sequential()\n",
        "\n",
        "# Must define the input shape in the first layer of the neural network\n",
        "model.add(tf.keras.layers.Conv2D(filters=64, kernel_size=2, padding='same', activation='relu', input_shape=(128,128,3))) \n",
        "model.add(tf.keras.layers.MaxPooling2D(pool_size=2))\n",
        "model.add(tf.keras.layers.Dropout(0.3))\n",
        "\n",
        "model.add(tf.keras.layers.Conv2D(filters=32, kernel_size=2, padding='same', activation='relu'))\n",
        "model.add(tf.keras.layers.MaxPooling2D(pool_size=2))\n",
        "model.add(tf.keras.layers.Dropout(0.3))\n",
        "\n",
        "model.add(tf.keras.layers.Flatten())\n",
        "model.add(tf.keras.layers.Dense(256, activation='relu'))\n",
        "model.add(tf.keras.layers.Dropout(0.5))\n",
        "model.add(tf.keras.layers.Dense(2, activation='sigmoid'))\n",
        "\n",
        "# Take a look at the model summary\n",
        "model.summary()"
      ],
      "execution_count": 0,
      "outputs": []
    },
    {
      "cell_type": "code",
      "metadata": {
        "id": "1217R5WllGqb",
        "colab_type": "code",
        "colab": {}
      },
      "source": [
        "model.compile(loss='binary_crossentropy',\n",
        "             optimizer='adam',\n",
        "             metrics=['accuracy'])"
      ],
      "execution_count": 0,
      "outputs": []
    },
    {
      "cell_type": "code",
      "metadata": {
        "id": "tmNsS_eDfSZK",
        "colab_type": "code",
        "colab": {}
      },
      "source": [
        "from keras.callbacks import TensorBoard\n",
        "tensor_board = TensorBoard(log_dir='./Graph', histogram_freq=0, write_graph=True, write_images=True)"
      ],
      "execution_count": 0,
      "outputs": []
    },
    {
      "cell_type": "code",
      "metadata": {
        "id": "R7233MuclLv8",
        "colab_type": "code",
        "colab": {}
      },
      "source": [
        "model.fit(x_train,\n",
        "         y_train,\n",
        "         batch_size=3,\n",
        "         epochs=30,\n",
        "         validation_data=(x_valid, y_valid),callbacks=[tensor_board])"
      ],
      "execution_count": 0,
      "outputs": []
    },
    {
      "cell_type": "code",
      "metadata": {
        "id": "s1pl_vR_tSZL",
        "colab_type": "code",
        "colab": {}
      },
      "source": [
        "%load_ext tensorboard\n",
        "%tensorboard --logdir ./Graph"
      ],
      "execution_count": 0,
      "outputs": []
    },
    {
      "cell_type": "markdown",
      "metadata": {
        "id": "C72GDLY6Rt36",
        "colab_type": "text"
      },
      "source": [
        "# saving the model"
      ]
    },
    {
      "cell_type": "code",
      "metadata": {
        "id": "hO1LDIRKlQK4",
        "colab_type": "code",
        "colab": {}
      },
      "source": [
        "os.chdir('/gdrive/.../models')"
      ],
      "execution_count": 0,
      "outputs": []
    },
    {
      "cell_type": "code",
      "metadata": {
        "id": "3kG9QPXTl0gN",
        "colab_type": "code",
        "colab": {}
      },
      "source": [
        "os.listdir()"
      ],
      "execution_count": 0,
      "outputs": []
    },
    {
      "cell_type": "code",
      "metadata": {
        "id": "EikhGUy_l6fK",
        "colab_type": "code",
        "colab": {}
      },
      "source": [
        "model.save('model2.h5')"
      ],
      "execution_count": 0,
      "outputs": []
    },
    {
      "cell_type": "code",
      "metadata": {
        "id": "Q_Au5O45l-n8",
        "colab_type": "code",
        "colab": {}
      },
      "source": [
        "# Evaluate the model on test set\n",
        "score = model.evaluate(x_test, y_test, verbose=0)\n",
        "\n",
        "# Print test accuracy\n",
        "print('\\n', 'Test accuracy:', score[1]*100)"
      ],
      "execution_count": 0,
      "outputs": []
    },
    {
      "cell_type": "markdown",
      "metadata": {
        "id": "1bYk5svAR8ZH",
        "colab_type": "text"
      },
      "source": [
        "# Predicting the output"
      ]
    },
    {
      "cell_type": "code",
      "metadata": {
        "id": "oZ2ZWUNFmCaY",
        "colab_type": "code",
        "colab": {}
      },
      "source": [
        "labels =[\"Male\",  # index 0\n",
        "        \"Female\",      # index 1\n",
        "        ]\n",
        "print('Male ->', '0', '\\nFemale ->', '1')"
      ],
      "execution_count": 0,
      "outputs": []
    },
    {
      "cell_type": "code",
      "metadata": {
        "id": "wSAJHS_5mH0g",
        "colab_type": "code",
        "colab": {}
      },
      "source": [
        "y_hat = model.predict(x_test)\n",
        "\n",
        "# Plot a random sample of 10 test images, their predicted labels and ground truth\n",
        "figure = plt.figure(figsize=(20, 8))\n",
        "for i, index in enumerate(np.random.choice(x_test.shape[0], size=15, replace=False)):\n",
        "    ax = figure.add_subplot(3, 5, i + 1, xticks=[], yticks=[])\n",
        "    # Display each image\n",
        "    ax.imshow(np.squeeze(x_test[index]))\n",
        "    predict_index = np.argmax(y_hat[index])\n",
        "    true_index = np.argmax(y_test[index])\n",
        "    # Set the title for each image\n",
        "    ax.set_title(\"{} ({})\".format(labels[predict_index], \n",
        "                                  labels[true_index]),\n",
        "                                  color=(\"green\" if predict_index == true_index else \"red\"))\n",
        "plt.show()"
      ],
      "execution_count": 0,
      "outputs": []
    }
  ]
}
