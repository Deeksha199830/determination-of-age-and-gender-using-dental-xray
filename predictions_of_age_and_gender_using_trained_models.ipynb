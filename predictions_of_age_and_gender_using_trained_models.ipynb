{
  "nbformat": 4,
  "nbformat_minor": 0,
  "metadata": {
    "colab": {
      "name": "predictions_of_age_and_gender_using_trained_models.ipynb",
      "provenance": []
    },
    "kernelspec": {
      "name": "python3",
      "display_name": "Python 3"
    }
  },
  "cells": [
    {
      "cell_type": "markdown",
      "metadata": {
        "id": "aWkD_qG6Szti",
        "colab_type": "text"
      },
      "source": [
        "# mounting drive and importing packages"
      ]
    },
    {
      "cell_type": "code",
      "metadata": {
        "id": "DCJHs0T-4a2y",
        "colab_type": "code",
        "colab": {}
      },
      "source": [
        "from google.colab import drive\n",
        "drive.mount('/gdrive')\n",
        "\n",
        "import numpy as np # linear algebra\n",
        "import pandas as pd # data processing, CSV file I/O (e.g. pd.read_csv)\n",
        "import math\n",
        "import keras\n",
        "import cv2\n",
        "import matplotlib.pyplot as plt\n",
        "import os\n",
        "import seaborn as sns\n",
        "import umap\n",
        "from PIL import Image\n",
        "from scipy import misc\n",
        "from os import listdir\n",
        "from os.path import isfile, join\n",
        "import numpy as np\n",
        "from scipy import misc\n",
        "from random import shuffle\n",
        "from collections import Counter\n",
        "import matplotlib.pyplot as plt\n",
        "from sklearn.decomposition import PCA\n",
        "from sklearn.manifold import TSNE\n",
        "import tensorflow as tf\n",
        "from keras.models import Sequential\n",
        "from keras.layers import Conv2D, MaxPooling2D\n",
        "from keras.layers import Activation, Dropout, Flatten, Dense\n",
        "from keras.utils.np_utils import to_categorical\n",
        "import tensorflow as tf\n",
        "from IPython.display import Image\n"
      ],
      "execution_count": 0,
      "outputs": []
    },
    {
      "cell_type": "markdown",
      "metadata": {
        "id": "0yH4EzKITIMM",
        "colab_type": "text"
      },
      "source": [
        "# loading already trained models"
      ]
    },
    {
      "cell_type": "code",
      "metadata": {
        "id": "Y3DeNN35Tc7-",
        "colab_type": "code",
        "colab": {}
      },
      "source": [
        "model_gender = tf.keras.models.load_model('/gdrive/.../model2.h5')\n",
        "model_gender.compile(loss='binary_crossentropy',\n",
        "             optimizer='adam',\n",
        "             metrics=['accuracy'])\n",
        "\n",
        "model_age = tf.keras.models.load_model('/gdrive/.../modelage.h5')\n",
        "\n",
        "model_age.compile(loss='binary_crossentropy',\n",
        "             optimizer='adam',\n",
        "             metrics=['accuracy'])\n"
      ],
      "execution_count": 0,
      "outputs": []
    },
    {
      "cell_type": "markdown",
      "metadata": {
        "id": "ZPmE6munTeBN",
        "colab_type": "text"
      },
      "source": [
        "# loading the image for prediction"
      ]
    },
    {
      "cell_type": "code",
      "metadata": {
        "id": "TGiMpnYnToIN",
        "colab_type": "code",
        "colab": {}
      },
      "source": [
        "from keras.preprocessing import image\n",
        "imagePath='/gdrive/.../110_43_0_20190816.jpeg'\n",
        "\n",
        "test_image = image.load_img(imagePath, target_size = (128, 128)) \n",
        "test_image = image.img_to_array(test_image)\n",
        "test_image = np.expand_dims(test_image, axis = 0)"
      ],
      "execution_count": 0,
      "outputs": []
    },
    {
      "cell_type": "markdown",
      "metadata": {
        "id": "xqvk6p61TqdQ",
        "colab_type": "text"
      },
      "source": [
        "# Predicting the results"
      ]
    },
    {
      "cell_type": "code",
      "metadata": {
        "id": "nzJLl6c2FzXz",
        "colab_type": "code",
        "colab": {}
      },
      "source": [
        "#predict the result\n",
        "result_gender=model_gender.predict(test_image)\n",
        "final_gender=result_gender.tolist()\n",
        "\n",
        "#to display the image\n",
        "display(Image(imagePath))\n",
        "\n",
        "for i,j in final_gender:\n",
        "  print(\"predicted gender is:\")\n",
        "  if(i==1.0):\n",
        "    print(\"male\")\n",
        "  else:\n",
        "    print(\"female\")\n",
        "\n",
        "print(\"expected gender is:\")\n",
        "gender=imagePath.split('_')[7]\n",
        "if(gender=='0'):\n",
        "  print(\"male\")\n",
        "else:\n",
        "  print(\"female\")\n",
        "\n",
        "result_age = model_age.predict(test_image)\n",
        "final_age=result_age.tolist()\n",
        "\n",
        "for i,j,k,l,m in final_age:\n",
        "  print(\"predicted age group is:\")\n",
        "  if(i==1.0):\n",
        "    print(\"the age is less then 14\")\n",
        "  if(j==1.0):\n",
        "    print(\"the age lies between 14 and 25\")\n",
        "  if(k==1.0):\n",
        "    print(\"the age lies between 25 and 40\")\n",
        "  if(l==1.0):\n",
        "    print(\"the age lies between 40 and 60\")\n",
        "  else:\n",
        "    print(\"the age is greater then 60\")\n",
        "\n",
        "print(\"expected age is:\")\n",
        "age=imagePath.split('_')[6]\n",
        "print(age)"
      ],
      "execution_count": 0,
      "outputs": []
    }
  ]
}